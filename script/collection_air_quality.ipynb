{
 "cells": [
  {
   "cell_type": "markdown",
   "metadata": {},
   "source": [
    "## Consolidate all json files and convert to CSV"
   ]
  },
  {
   "cell_type": "code",
   "execution_count": null,
   "metadata": {},
   "outputs": [],
   "source": [
    "import os\n",
    "import pandas as pd\n",
    "import json\n",
    "\n",
    "\n",
    "# file_name = \"dq_202404\"\n",
    "folders = [\"dq_202412\",\"dq_202501\",\"dq_202502\"]\n",
    "for file_name in folders:\n",
    "    dataframes = []\n",
    "    print(f\"Start {file_name}\")\n",
    "    directory_path = f\"../data/{file_name}/\"\n",
    "    all_files = [os.path.join(directory_path, f) for f in os.listdir(directory_path) if f.endswith('.json')]\n",
    "    for file_item in all_files:\n",
    "        # df = pd.read_json(file)\n",
    "        with open(file_item, \"r\", encoding=\"utf-8\") as file:\n",
    "            json_data = json.load(file)\n",
    "        # Extract timestamp\n",
    "        timestamp = json_data[\"ts\"]\n",
    "            # Normalize the nested data\n",
    "        df = pd.json_normalize(json_data[\"data\"], sep='_')\n",
    "            # Add the timestamp column to all rows\n",
    "        df[\"timestamp\"] = timestamp\n",
    "        filtered_df = df.filter(items=[\"timestamp\", \"lamppost_district_en\", \"lamppost_location_en\", \"no\", \"no2\", \"pm25\"])\n",
    "        dataframes.append(filtered_df)\n",
    "\n",
    "    final_df = pd.concat(dataframes, ignore_index=True)  # Merge DataFrames\n",
    "    final_df.to_csv(f\"./{file_name}.csv\", index=False)\n",
    "    print(f\"Saved {file_name} completed\")"
   ]
  },
  {
   "cell_type": "markdown",
   "metadata": {},
   "source": [
    "## Merge all files to single CSV"
   ]
  },
  {
   "cell_type": "code",
   "execution_count": null,
   "metadata": {},
   "outputs": [],
   "source": [
    "directory_path = \"./\"\n",
    "output_file = directory_path + \"/air_quality.csv\" \n",
    "\n",
    "all_files = [os.path.join(directory_path, f) for f in os.listdir(directory_path) if f.endswith('.csv')]\n",
    "dataframes = []\n",
    "for file in all_files:\n",
    "    df = pd.read_csv(file) # Start Row 0\n",
    "    dataframes.append(df)\n",
    "\n",
    "final_df = pd.concat(dataframes, ignore_index=True)\n",
    "final_df.to_csv(output_file, index=False)"
   ]
  }
 ],
 "metadata": {
  "kernelspec": {
   "display_name": ".venv",
   "language": "python",
   "name": "python3"
  },
  "language_info": {
   "name": "python",
   "version": "3.12.5"
  }
 },
 "nbformat": 4,
 "nbformat_minor": 2
}
